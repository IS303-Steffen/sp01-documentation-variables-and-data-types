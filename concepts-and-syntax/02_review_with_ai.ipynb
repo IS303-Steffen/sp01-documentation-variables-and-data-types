{
 "cells": [
  {
   "cell_type": "markdown",
   "id": "a55e4e31",
   "metadata": {},
   "source": [
    "\n",
    "# Review with AI: Documentation, Variables, and Data Types\n",
    "\n",
    "Use this notebook to review and solidify your understanding of the chapter content using AI as your personal tutor.\n",
    "\n",
    "### How to use this notebook:\n",
    "- **Copy and paste** the prompts below into your preferred AI tool (such as ChatGPT or Copilot).\n",
    "- **Check your understanding** by explaining concepts in your own words to the AI and letting it correct or clarify your explanations.\n",
    "- **Generate practice problems** using the suggested prompts and attempt solving them.\n"
   ]
  },
  {
   "cell_type": "markdown",
   "id": "dd3c5e13",
   "metadata": {},
   "source": [
    "\n",
    "## AI Setup Prompt\n",
    "\n",
    "Copy this prompt first to set up your AI interaction:\n",
    "\n",
    "```\n",
    "I am a student in an introductory programming course learning Python. When I ask questions or describe concepts, please respond as my tutor by explaining in simple, easy-to-understand language. Correct any mistakes gently and clarify misconceptions. Use examples or metaphors when helpful. Let me know what I understand correctly and where I might need adjustment.\n",
    "```\n"
   ]
  },
  {
   "cell_type": "markdown",
   "id": "34606d90",
   "metadata": {},
   "source": [
    "\n",
    "## Questions to Review Concepts\n",
    "\n",
    "Use these questions to guide your review. Ask AI any of the following:\n",
    "\n",
    "- How do I write comments in Python, and when should I use them?\n",
    "- What exactly is a data type in Python?\n",
    "- Which data types should I know as an absolute beginner?\n",
    "- What are good practices for naming variables in Python?\n",
    "- How do I check the data type of a variable in Python?\n",
    "- How does the `print()` function work?\n"
   ]
  },
  {
   "cell_type": "markdown",
   "id": "077f04f3",
   "metadata": {},
   "source": [
    "\n",
    "## Check Your Understanding\n",
    "\n",
    "Explain the following concepts in your own words to AI, and have it correct you or clarify misconceptions:\n",
    "\n",
    "- Documentation (comments)\n",
    "- Variables and assignment\n",
    "- Different basic data types (integer, float, string, boolean)\n",
    "- Using `type()` to check data types\n"
   ]
  },
  {
   "cell_type": "markdown",
   "id": "97a0d10d",
   "metadata": {},
   "source": [
    "\n",
    "## Generate Your Own Practice Questions\n",
    "\n",
    "Use the following prompt to ask AI to create practice problems for you. Try to solve the problems yourself, then have AI review your answers:\n",
    "\n",
    "```\n",
    "I am a beginning Python student in an intro course. I know about creating variables, basic data types, and using print() and type(). Create two simple practice problems for me that focus on variables and data types. Provide only the problems, without the solutions. After I attempt them, I'll show you my solutions to check my understanding.\n",
    "```\n"
   ]
  }
 ],
 "metadata": {},
 "nbformat": 4,
 "nbformat_minor": 5
}
