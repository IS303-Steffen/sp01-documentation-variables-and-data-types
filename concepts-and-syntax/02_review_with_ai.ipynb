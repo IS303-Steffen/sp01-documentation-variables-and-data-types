{
 "cells": [
  {
   "cell_type": "markdown",
   "id": "c23b66f8",
   "metadata": {},
   "source": [
    "- How do I make comments in python? When should I comment?\n",
    "- What is a data type in python?\n",
    "- What are the data types I should be aware of as an absolute beginner in python?\n",
    "- How should I name variables in Python?\n",
    "- How can I tell what data type a variable is in Python?\n",
    "- How does the print() function work in Python?\n"
   ]
  }
 ],
 "metadata": {
  "language_info": {
   "name": "python"
  }
 },
 "nbformat": 4,
 "nbformat_minor": 5
}
