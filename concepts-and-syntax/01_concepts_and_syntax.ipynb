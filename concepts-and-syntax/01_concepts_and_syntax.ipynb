{
 "cells": [
  {
   "cell_type": "markdown",
   "id": "1c0d328c",
   "metadata": {},
   "source": [
    "#"
   ]
  },
  {
   "cell_type": "markdown",
   "id": "9726e22a",
   "metadata": {},
   "source": [
    "# Syntax & Concepts: Documentation, Variables, and Data Types\n",
    "### Do the following before class:\n",
    "1. **Read through this page**\n",
    "    - Try running each block of code, feel free to edit and add to the code.\n",
    "    - If you don't understand something, see the AI tips, or reference your textbook.\n",
    "2. **Complete at least one practice problem.**\n",
    "    - If you have trouble or don't know where to start, copy and paste the instructions & the AI prompt into your preferred AI service. Let it guide you through the problem.\n",
    "    - Feel free to do more problems. Problems are generally orderd from easiest to hardest.\n",
    "3. **Paste your completed practice problem code to Learning Suite for credit.**\n"
   ]
  },
  {
   "cell_type": "code",
   "execution_count": 2,
   "id": "a18e72c4",
   "metadata": {},
   "outputs": [
    {
     "data": {
      "text/plain": [
       "'\\nI am a beginner in an introductory Python programming course. When I ask\\nquestions or describe a concept, or paste in code, please respond as my tutor by\\nexplaining in simple, easy-to-understand language. Correct any mistakes I make\\nand help clarify misconceptions. You can use examples or metaphors to help\\nexplain concepts when needed. Let me know if my understanding is correct or\\nwhere I might be going wrong.\\n'"
      ]
     },
     "execution_count": 2,
     "metadata": {},
     "output_type": "execute_result"
    }
   ],
   "source": [
    "# PROMPT FOR AI:\n",
    "'''\n",
    "I am a beginner in an introductory Python programming course. When I ask\n",
    "questions or describe a concept, or paste in code, please respond as my tutor by\n",
    "explaining in simple, easy-to-understand language. Correct any mistakes I make\n",
    "and help clarify misconceptions. You can use examples or metaphors to help\n",
    "explain concepts when needed. Let me know if my understanding is correct or\n",
    "where I might be going wrong.\n",
    "'''"
   ]
  },
  {
   "cell_type": "markdown",
   "id": "02e95264",
   "metadata": {},
   "source": [
    "## 1: Comments\n",
    "### Example"
   ]
  },
  {
   "cell_type": "code",
   "execution_count": 4,
   "id": "084a8cc6",
   "metadata": {},
   "outputs": [
    {
     "name": "stdout",
     "output_type": "stream",
     "text": [
      "hello world\n"
     ]
    }
   ],
   "source": [
    "# use the hashtag for a single comment\n",
    "print(\"hello world\")"
   ]
  },
  {
   "cell_type": "markdown",
   "id": "d057e164",
   "metadata": {},
   "source": [
    "# print() lets you display things in your terminal window"
   ]
  },
  {
   "cell_type": "code",
   "execution_count": 3,
   "id": "372eea80",
   "metadata": {},
   "outputs": [
    {
     "name": "stdout",
     "output_type": "stream",
     "text": [
      "ello world\n"
     ]
    }
   ],
   "source": [
    "print(\"ello world\")\n",
    "chonk= 2\n",
    "\n",
    "hello = \"hello\""
   ]
  },
  {
   "cell_type": "code",
   "execution_count": null,
   "id": "2dab5164",
   "metadata": {},
   "outputs": [],
   "source": []
  },
  {
   "cell_type": "markdown",
   "id": "e433b77c",
   "metadata": {},
   "source": [
    "### Want a deeper undertanding?\n",
    "You have these resources\n",
    "1. **Your textbook.**\n",
    "    - See Learning Suite for a reading guide that shows which sections of each chapter to focus on.\n",
    "2. **Class practice files**\n",
    "    - See Learning Suite. They have longer examples of each concept shown here.\n",
    "3. **TA or the Professor**\n",
    "    - We love helping. Reach out on Slack.\n",
    "4. **AI**\n",
    "    - I recommend pasting in the message below, and then paste in some code from this page, ask it a question, or try explaining something in your own words and have it correct you."
   ]
  }
 ],
 "metadata": {
  "kernelspec": {
   "display_name": "Python 3",
   "language": "python",
   "name": "python3"
  },
  "language_info": {
   "codemirror_mode": {
    "name": "ipython",
    "version": 3
   },
   "file_extension": ".py",
   "mimetype": "text/x-python",
   "name": "python",
   "nbconvert_exporter": "python",
   "pygments_lexer": "ipython3",
   "version": "3.12.5"
  }
 },
 "nbformat": 4,
 "nbformat_minor": 5
}
