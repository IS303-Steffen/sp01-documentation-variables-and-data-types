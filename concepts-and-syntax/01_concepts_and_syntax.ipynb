{
 "cells": [
  {
   "cell_type": "markdown",
   "id": "b4bda1f0",
   "metadata": {},
   "source": [
    "\n",
    "# Syntax & Concepts: Documentation, Variables, and Data Types\n",
    "\n",
    "### Before Class:\n",
    "\n",
    "1. **Read this notebook and attempt each \"You Try\" section.**\n",
    "    - Need help? Check the AI tips or your textbook.\n",
    "\n",
    "2. **Complete at least one practice problem from this chapter.**\n",
    "    - Problems are ordered from easiest to hardest.\n",
    "    - Stuck? Copy and paste the instructions and AI prompt into your preferred AI service for guided help.\n",
    "\n",
    "3. **Submit your attempted practice problem code in the \"Class Prep Report\" on Learning Suite for credit.**\n",
    "\n",
    "#### Need more explanation? Copy and paste this AI prompt along with any code you have questions about:\n",
    "(Double-click the text below, then copy and paste it into your AI service.)\n",
    "\n",
    "```\n",
    "I am new to Python and just starting to learn coding. I need simple, clear explanations. When I ask a question or show my code, act like my personal tutor: correct mistakes gently, clarify misconceptions, and use easy-to-follow language. Feel free to use examples or metaphors to help me understand. Let me know when I'm doing well or what I need to adjust.\n",
    "```\n"
   ]
  },
  {
   "cell_type": "markdown",
   "id": "44668716",
   "metadata": {},
   "source": [
    "\n",
    "### Chapter Summary\n",
    "In this chapter, you'll learn the basics of writing and documenting Python code, creating variables to store data, and understanding the basic types of data that Python uses. Mastering these concepts will help you clearly communicate your ideas to the computer and other programmers.\n"
   ]
  },
  {
   "cell_type": "markdown",
   "id": "3114b0c6",
   "metadata": {},
   "source": [
    "\n",
    "## 1: Using the `print()` Function\n",
    "The `print()` function displays text or other information on your screen.\n"
   ]
  },
  {
   "cell_type": "code",
   "execution_count": null,
   "id": "bb14172a",
   "metadata": {},
   "outputs": [],
   "source": [
    "print(\"Hello, world!\")"
   ]
  },
  {
   "cell_type": "markdown",
   "id": "8196c071",
   "metadata": {},
   "source": [
    "\n",
    "### 1.p: You Try\n",
    "Write your own `print()` statement that displays your favorite quote or message.\n"
   ]
  },
  {
   "cell_type": "code",
   "execution_count": null,
   "id": "73eb29ff",
   "metadata": {},
   "outputs": [],
   "source": [
    "# Your code here\n"
   ]
  },
  {
   "cell_type": "markdown",
   "id": "a242e679",
   "metadata": {},
   "source": [
    "\n",
    "## 2: Variables and Assignment\n",
    "Variables store information so that you can use it later. Assignment means giving a value to a variable.\n"
   ]
  },
  {
   "cell_type": "code",
   "execution_count": null,
   "id": "b233ed7c",
   "metadata": {},
   "outputs": [],
   "source": [
    "greeting = \"Welcome to Python!\"\n",
    "print(greeting)"
   ]
  },
  {
   "cell_type": "markdown",
   "id": "ab72396c",
   "metadata": {},
   "source": [
    "\n",
    "### 2.p: You Try\n",
    "Create a variable called `favorite_food`, assign your favorite food to it, and print it.\n"
   ]
  },
  {
   "cell_type": "code",
   "execution_count": null,
   "id": "b09e2a7d",
   "metadata": {},
   "outputs": [],
   "source": [
    "# Your code here\n"
   ]
  },
  {
   "cell_type": "markdown",
   "id": "133acaf0",
   "metadata": {},
   "source": [
    "\n",
    "## 3: Basic Data Types\n",
    "Data types tell Python what kind of data you are working with. Common types include integers, floats, strings, and booleans.\n"
   ]
  },
  {
   "cell_type": "code",
   "execution_count": null,
   "id": "eeccdb23",
   "metadata": {},
   "outputs": [],
   "source": [
    "age = 25       # Integer\n",
    "price = 9.99    # Float\n",
    "name = \"Alex\"   # String\n",
    "is_new = True   # Boolean\n",
    "print(age, price, name, is_new)"
   ]
  },
  {
   "cell_type": "markdown",
   "id": "4888dd7c",
   "metadata": {},
   "source": [
    "\n",
    "### 3.p: You Try\n",
    "Create four new variables (integer, float, string, boolean) describing yourself or something you like, and print them.\n"
   ]
  },
  {
   "cell_type": "code",
   "execution_count": null,
   "id": "01b066c4",
   "metadata": {},
   "outputs": [],
   "source": [
    "# Your code here\n"
   ]
  },
  {
   "cell_type": "markdown",
   "id": "4990e0e0",
   "metadata": {},
   "source": [
    "\n",
    "## 4: Checking Data Types with `type()`\n",
    "The `type()` function lets you see what data type a variable has.\n"
   ]
  },
  {
   "cell_type": "code",
   "execution_count": null,
   "id": "3f5d2d06",
   "metadata": {},
   "outputs": [],
   "source": [
    "score = 100\n",
    "print(type(score))"
   ]
  },
  {
   "cell_type": "markdown",
   "id": "14f21a6f",
   "metadata": {},
   "source": [
    "\n",
    "### 4.p: You Try\n",
    "Create a variable, assign it a value, and then print its data type using `type()`.\n"
   ]
  },
  {
   "cell_type": "code",
   "execution_count": null,
   "id": "51d24b1e",
   "metadata": {},
   "outputs": [],
   "source": [
    "# Your code here\n"
   ]
  },
  {
   "cell_type": "markdown",
   "id": "bc111605",
   "metadata": {},
   "source": [
    "\n",
    "## 5: Comments and Documentation\n",
    "Comments help you explain your code clearly. They are ignored by Python when your code runs.\n"
   ]
  },
  {
   "cell_type": "code",
   "execution_count": null,
   "id": "faadf990",
   "metadata": {},
   "outputs": [],
   "source": [
    "# This is a single-line comment\n",
    "'''\n",
    "This is a\n",
    "multi-line comment\n",
    "or docstring.\n",
    "'''"
   ]
  },
  {
   "cell_type": "markdown",
   "id": "020dc05e",
   "metadata": {},
   "source": [
    "\n",
    "### 5.p: You Try\n",
    "Write a single-line comment about your favorite hobby, and a multi-line comment describing why you like programming or want to learn it.\n"
   ]
  },
  {
   "cell_type": "code",
   "execution_count": null,
   "id": "8f13f4b1",
   "metadata": {},
   "outputs": [],
   "source": [
    "# Your comments here\n"
   ]
  },
  {
   "cell_type": "markdown",
   "id": "7b8567b3",
   "metadata": {},
   "source": [
    "\n",
    "## Want to Learn More?\n",
    "If you'd like extra help or more details, you can:\n",
    "- **Ask AI**: Use the suggested questions in the `review_with_ai` file.\n",
    "- **Read your textbook**: Check the reading guide on Learning Suite beforehand.\n",
    "- **Review class practice files**: They contain more detailed examples and explanations, available on Learning Suite.\n"
   ]
  }
 ],
 "metadata": {},
 "nbformat": 4,
 "nbformat_minor": 5
}
